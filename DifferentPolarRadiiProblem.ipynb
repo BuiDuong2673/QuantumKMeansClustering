{
 "cells": [
  {
   "cell_type": "markdown",
   "id": "99851272-1365-4e8a-9ae0-220dea855d3b",
   "metadata": {},
   "source": [
    "# Experiment with Significantly Different Polar Radii Problem\n",
    "\n",
    "In this experiment, we want to determine whether the point (1, 1) is nearer to centroid 1 (2, 2) or centroid 2 (1, 4). To achieve this, we use the formula proposed by Khan et al. to calculate the distances between the point and each centroid ([arXiv](https://arxiv.org/abs/1909.12183)). These distances are then used to decide which centroid is closer to the point. We will also compare the centroid chosen by Khan et al.'s formula with the centroid chosen based on Euclidean distance.\n"
   ]
  },
  {
   "cell_type": "code",
   "execution_count": 1,
   "id": "302fb6e1-fd77-40fd-beec-67f2f82d1536",
   "metadata": {},
   "outputs": [
    {
     "name": "stdout",
     "output_type": "stream",
     "text": [
      "[[0.0, 0.0], [1.0, 0.3333333333333333], [0.0, 1.0]]\n",
      "[Khan et al.'s equation] Distance to centroid 1: 0.08243694780039917\n",
      "[Khan et al.'s equation] Distance to centroid 2: 0.9999999999999999\n",
      "[Khan et al.'s equation] Centroid 1 is closer.\n",
      "[Euclidean distance equation] Distance to centroid 1: 1.0540925533894598\n",
      "[Euclidean distance equation] Distance to centroid 2: 1.0\n",
      "[Euclidean distance equation] Centroid 2 is closer.\n"
     ]
    }
   ],
   "source": [
    "from sklearn.preprocessing import MinMaxScaler\n",
    "import numpy as np\n",
    "import math\n",
    "\n",
    "# Original points and centroids\n",
    "point = [1, 1]\n",
    "centroid_1 = [2, 2]\n",
    "centroid_2 = [1, 4]\n",
    "# Collect the points to a list \"data\"\n",
    "data = []\n",
    "data.append(point)\n",
    "data.append(centroid_1)\n",
    "data.append(centroid_2)\n",
    "\n",
    "# Normalize the data using MinMaxScaler()\n",
    "data_np = np.array(data)\n",
    "data_normalized = MinMaxScaler().fit_transform(data_np).tolist()\n",
    "print(data_normalized)\n",
    "\n",
    "# Calculate distances using Khan et al.'s equation\n",
    "# Polar coordinate of point\n",
    "radius_p = np.sqrt(data_normalized[0][0] ** 2 + data_normalized[0][1] ** 2)\n",
    "theta_p = math.atan2(data_normalized[0][1] ** 2, data_normalized[0][0] ** 2)\n",
    "# Polar coordinate of centroid 1\n",
    "radius_c1 = np.sqrt(data_normalized[1][0] ** 2 + data_normalized[1][1] ** 2)\n",
    "theta_c1 = math.atan2(data_normalized[1][1] ** 2, data_normalized[1][0] ** 2)\n",
    "# Polar coordiante of centroid 2\n",
    "radius_c2 = np.sqrt(data_normalized[2][0] ** 2 + data_normalized[2][1] ** 2)\n",
    "theta_c2 = math.atan2(data_normalized[2][1] ** 2, data_normalized[2][0] ** 2)\n",
    "# Distance between point and centroid 1\n",
    "distance_khan_1 = math.sqrt(radius_p ** 2 + radius_c1 ** 2 - (radius_p ** 2 + radius_c1 ** 2) * math.cos(abs(theta_p - theta_c1)))\n",
    "print(f\"[Khan et al.'s equation] Distance to centroid 1: {distance_khan_1}\")\n",
    "# Distance between point and centroid 2\n",
    "distance_khan_2 = math.sqrt(radius_p ** 2 + radius_c2 ** 2 - (radius_p ** 2 + radius_c2 ** 2) * math.cos(abs(theta_p - theta_c2)))\n",
    "print(f\"[Khan et al.'s equation] Distance to centroid 2: {distance_khan_2}\")\n",
    "# Find the centroid closer to the point\n",
    "if distance_khan_1 < distance_khan_2:\n",
    "    print(\"[Khan et al.'s equation] Centroid 1 is closer.\")\n",
    "else:\n",
    "    print(\"[Khan et al.'s equation] Centroid 2 is closer.\")\n",
    "# Calculate distances using Euclidean distance formula:\n",
    "# Distance between point and centroid 1\n",
    "distance_euc_1 = math.sqrt((data_normalized[0][0] - data_normalized[1][0]) ** 2 + (data_normalized[0][1] - data_normalized[1][1]) ** 2)\n",
    "print(f\"[Euclidean distance equation] Distance to centroid 1: {distance_euc_1}\")\n",
    "distance_euc_2 = math.sqrt((data_normalized[0][0] - data_normalized[2][0]) ** 2 + (data_normalized[0][1] - data_normalized[2][1]) ** 2)\n",
    "print(f\"[Euclidean distance equation] Distance to centroid 2: {distance_euc_2}\")\n",
    "# Find the centroid closer to the point\n",
    "if distance_euc_1 < distance_euc_2:\n",
    "    print(\"[Euclidean distance equation] Centroid 1 is closer.\")\n",
    "else:\n",
    "    print(\"[Euclidean distance equation] Centroid 2 is closer.\")"
   ]
  }
 ],
 "metadata": {
  "kernelspec": {
   "display_name": "Python 3 (ipykernel)",
   "language": "python",
   "name": "python3"
  },
  "language_info": {
   "codemirror_mode": {
    "name": "ipython",
    "version": 3
   },
   "file_extension": ".py",
   "mimetype": "text/x-python",
   "name": "python",
   "nbconvert_exporter": "python",
   "pygments_lexer": "ipython3",
   "version": "3.12.4"
  }
 },
 "nbformat": 4,
 "nbformat_minor": 5
}
